{
 "cells": [
  {
   "cell_type": "code",
   "execution_count": 1,
   "metadata": {},
   "outputs": [],
   "source": [
    "import boto3, re\n",
    "from sagemaker import get_execution_role"
   ]
  },
  {
   "cell_type": "code",
   "execution_count": 2,
   "metadata": {},
   "outputs": [],
   "source": [
    "role = get_execution_role()"
   ]
  },
  {
   "cell_type": "code",
   "execution_count": 3,
   "metadata": {},
   "outputs": [
    {
     "data": {
      "text/plain": [
       "'arn:aws:iam::174390337627:role/service-role/AmazonSageMaker-ExecutionRole-20190115T134792'"
      ]
     },
     "execution_count": 3,
     "metadata": {},
     "output_type": "execute_result"
    }
   ],
   "source": [
    "role"
   ]
  },
  {
   "cell_type": "code",
   "execution_count": 4,
   "metadata": {},
   "outputs": [
    {
     "name": "stderr",
     "output_type": "stream",
     "text": [
      "Using TensorFlow backend.\n"
     ]
    }
   ],
   "source": [
    "import keras\n",
    "from keras.models import model_from_json"
   ]
  },
  {
   "cell_type": "code",
   "execution_count": 5,
   "metadata": {},
   "outputs": [
    {
     "name": "stderr",
     "output_type": "stream",
     "text": [
      "WARNING:tensorflow:From /home/ec2-user/anaconda3/envs/python3/lib/python3.6/site-packages/tensorflow/python/framework/op_def_library.py:263: colocate_with (from tensorflow.python.framework.ops) is deprecated and will be removed in a future version.\n",
      "Instructions for updating:\n",
      "Colocations handled automatically by placer.\n",
      "WARNING:tensorflow:From /home/ec2-user/anaconda3/envs/python3/lib/python3.6/site-packages/keras/backend/tensorflow_backend.py:3445: calling dropout (from tensorflow.python.ops.nn_ops) with keep_prob is deprecated and will be removed in a future version.\n",
      "Instructions for updating:\n",
      "Please use `rate` instead of `keep_prob`. Rate should be set to `rate = 1 - keep_prob`.\n"
     ]
    }
   ],
   "source": [
    "json_file = open('selfie_model/'+'selfie_model.json', 'r')\n",
    "loaded_model_json = json_file.read()\n",
    "json_file.close()\n",
    "loaded_model = model_from_json(loaded_model_json)"
   ]
  },
  {
   "cell_type": "code",
   "execution_count": 6,
   "metadata": {},
   "outputs": [],
   "source": [
    "loaded_model.load_weights('selfie_model/selfie_model-weights.h5')"
   ]
  },
  {
   "cell_type": "code",
   "execution_count": 7,
   "metadata": {},
   "outputs": [],
   "source": [
    "from tensorflow.python.saved_model import builder\n",
    "from tensorflow.python.saved_model.signature_def_utils import predict_signature_def\n",
    "from tensorflow.python.saved_model import tag_constants"
   ]
  },
  {
   "cell_type": "code",
   "execution_count": 8,
   "metadata": {},
   "outputs": [
    {
     "name": "stdout",
     "output_type": "stream",
     "text": [
      "CPU times: user 4 µs, sys: 1e+03 ns, total: 5 µs\n",
      "Wall time: 8.11 µs\n"
     ]
    }
   ],
   "source": [
    "%%time\n",
    "model_version = '039521'"
   ]
  },
  {
   "cell_type": "code",
   "execution_count": 9,
   "metadata": {},
   "outputs": [],
   "source": [
    "export_dir = 'export/Servo/' + model_version"
   ]
  },
  {
   "cell_type": "code",
   "execution_count": 10,
   "metadata": {},
   "outputs": [],
   "source": [
    "builder = builder.SavedModelBuilder(export_dir)"
   ]
  },
  {
   "cell_type": "code",
   "execution_count": 11,
   "metadata": {},
   "outputs": [
    {
     "name": "stderr",
     "output_type": "stream",
     "text": [
      "WARNING:tensorflow:From /home/ec2-user/anaconda3/envs/python3/lib/python3.6/site-packages/tensorflow/python/saved_model/signature_def_utils_impl.py:205: build_tensor_info (from tensorflow.python.saved_model.utils_impl) is deprecated and will be removed in a future version.\n",
      "Instructions for updating:\n",
      "This function will only be available through the v1 compatibility library as tf.compat.v1.saved_model.utils.build_tensor_info or tf.compat.v1.saved_model.build_tensor_info.\n"
     ]
    }
   ],
   "source": [
    "signature = predict_signature_def(inputs={\"inputs\": loaded_model.input}, outputs={\"score\": loaded_model.output})"
   ]
  },
  {
   "cell_type": "code",
   "execution_count": 12,
   "metadata": {},
   "outputs": [],
   "source": [
    "from keras import backend as K\n",
    "\n",
    "with K.get_session() as sess:\n",
    "    # Save the meta graph and variables\n",
    "    builder.add_meta_graph_and_variables(\n",
    "        sess=sess, tags=[tag_constants.SERVING], signature_def_map={\"serving_default\": signature})\n",
    "    builder.save()"
   ]
  },
  {
   "cell_type": "code",
   "execution_count": 13,
   "metadata": {},
   "outputs": [],
   "source": [
    "import tarfile\n",
    "with tarfile.open('model.tar.gz', mode='w:gz') as archive:\n",
    "    archive.add('export', recursive=True)"
   ]
  },
  {
   "cell_type": "code",
   "execution_count": 14,
   "metadata": {},
   "outputs": [],
   "source": [
    "import sagemaker\n",
    "sagemaker_session = sagemaker.Session()\n",
    "inputs = sagemaker_session.upload_data(path='model.tar.gz', key_prefix='Robert/model/image')"
   ]
  },
  {
   "cell_type": "code",
   "execution_count": 15,
   "metadata": {},
   "outputs": [],
   "source": [
    "!cat train.py"
   ]
  },
  {
   "cell_type": "code",
   "execution_count": 16,
   "metadata": {},
   "outputs": [],
   "source": [
    "from sagemaker.tensorflow.model import TensorFlowModel\n",
    "sagemaker_model = TensorFlowModel(model_data = 's3://' + sagemaker_session.default_bucket() + '/Robert/model/image/model.tar.gz',\n",
    "                                  role = role,\n",
    "                                  entry_point = 'train.py')\n",
    "#sagemaker_model.fit()"
   ]
  },
  {
   "cell_type": "code",
   "execution_count": 17,
   "metadata": {},
   "outputs": [
    {
     "name": "stderr",
     "output_type": "stream",
     "text": [
      "INFO:sagemaker:Creating model with name: sagemaker-tensorflow-2019-03-25-02-11-36-553\n",
      "INFO:sagemaker:Creating endpoint with name sagemaker-tensorflow-2019-03-25-02-11-36-553\n"
     ]
    },
    {
     "name": "stdout",
     "output_type": "stream",
     "text": [
      "---------------------------------------------------------------------------!CPU times: user 494 ms, sys: 34.2 ms, total: 528 ms\n",
      "Wall time: 6min 22s\n"
     ]
    }
   ],
   "source": [
    "%%time\n",
    "predictor = sagemaker_model.deploy(initial_instance_count=1, instance_type='ml.m4.xlarge')"
   ]
  },
  {
   "cell_type": "code",
   "execution_count": 18,
   "metadata": {},
   "outputs": [],
   "source": [
    "endpoint_name = \"sagemaker-tensorflow-2019-03-25-02-11-36-553\"\n",
    "import sagemaker\n",
    "from sagemaker.tensorflow.model import TensorFlowPredictor\n",
    "predictor=sagemaker.tensorflow.model.TensorFlowPredictor(endpoint_name, sagemaker_session)"
   ]
  },
  {
   "cell_type": "code",
   "execution_count": 19,
   "metadata": {},
   "outputs": [
    {
     "name": "stdout",
     "output_type": "stream",
     "text": [
      "Requirement already satisfied: opencv-python in /home/ec2-user/anaconda3/envs/python3/lib/python3.6/site-packages (4.0.0.21)\n",
      "Requirement already satisfied: numpy>=1.11.3 in /home/ec2-user/anaconda3/envs/python3/lib/python3.6/site-packages (from opencv-python) (1.14.5)\n",
      "\u001b[33mYou are using pip version 10.0.1, however version 19.0.3 is available.\n",
      "You should consider upgrading via the 'pip install --upgrade pip' command.\u001b[0m\n"
     ]
    }
   ],
   "source": [
    "!pip install opencv-python\n",
    "from PIL import Image\n",
    "#import tensorflow as tf\n",
    "import numpy as np\n",
    "import cv2\n",
    "#from tensorflow.core.framework import tensor_pb2"
   ]
  },
  {
   "cell_type": "code",
   "execution_count": 20,
   "metadata": {},
   "outputs": [
    {
     "data": {
      "text/plain": [
       "numpy.ndarray"
      ]
     },
     "execution_count": 20,
     "metadata": {},
     "output_type": "execute_result"
    }
   ],
   "source": [
    "IMG_SIZE = 256\n",
    "im = cv2.imread(\"Positive-(11).jpg\")\n",
    "im_r = cv2.resize(im, (256,256))\n",
    "im_r = cv2.cvtColor(im_r, cv2.COLOR_BGR2GRAY)\n",
    "im_t = im_r.reshape(1,256,256,1).astype('float32')\n",
    "type(im_t)"
   ]
  },
  {
   "cell_type": "code",
   "execution_count": 21,
   "metadata": {},
   "outputs": [
    {
     "data": {
      "text/plain": [
       "array([[[[21],\n",
       "         [22],\n",
       "         [22],\n",
       "         ...,\n",
       "         [14],\n",
       "         [14],\n",
       "         [15]],\n",
       "\n",
       "        [[23],\n",
       "         [22],\n",
       "         [20],\n",
       "         ...,\n",
       "         [15],\n",
       "         [15],\n",
       "         [13]],\n",
       "\n",
       "        [[23],\n",
       "         [24],\n",
       "         [23],\n",
       "         ...,\n",
       "         [13],\n",
       "         [14],\n",
       "         [10]],\n",
       "\n",
       "        ...,\n",
       "\n",
       "        [[17],\n",
       "         [19],\n",
       "         [19],\n",
       "         ...,\n",
       "         [13],\n",
       "         [12],\n",
       "         [10]],\n",
       "\n",
       "        [[16],\n",
       "         [12],\n",
       "         [13],\n",
       "         ...,\n",
       "         [12],\n",
       "         [13],\n",
       "         [12]],\n",
       "\n",
       "        [[10],\n",
       "         [ 8],\n",
       "         [10],\n",
       "         ...,\n",
       "         [12],\n",
       "         [15],\n",
       "         [12]]]])"
      ]
     },
     "execution_count": 21,
     "metadata": {},
     "output_type": "execute_result"
    }
   ],
   "source": [
    "pic = Image.open(\"negative-(620).jpg\")\n",
    "pic = pic.convert('L')\n",
    "pic = pic.resize((IMG_SIZE, IMG_SIZE), Image.ANTIALIAS)\n",
    "pix = np.array(pic.getdata()).reshape(1, 256, 256, 1)\n",
    "pin = pix.tobytes()\n",
    "type(pin)\n",
    "pix"
   ]
  },
  {
   "cell_type": "code",
   "execution_count": 22,
   "metadata": {},
   "outputs": [
    {
     "data": {
      "text/plain": [
       "{'outputs': {'score': {'dtype': 1,\n",
       "   'tensor_shape': {'dim': [{'size': 1}, {'size': 2}]},\n",
       "   'float_val': [5.789118506403443e-14, 1.0]}},\n",
       " 'model_spec': {'name': 'generic_model',\n",
       "  'version': {'value': 21039524},\n",
       "  'signature_name': 'serving_default'}}"
      ]
     },
     "execution_count": 22,
     "metadata": {},
     "output_type": "execute_result"
    }
   ],
   "source": [
    "import boto3\n",
    "runtime = boto3.Session().client(service_name='sagemaker-runtime', region_name='ap-southeast-1') \n",
    "import json\n",
    "import numpy as np\n",
    "#data = np.random.randn(1, 256, 256, 3)\n",
    "predictor.predict(pix)"
   ]
  },
  {
   "cell_type": "code",
   "execution_count": 23,
   "metadata": {
    "scrolled": false
   },
   "outputs": [],
   "source": [
    "img_predict=predictor.predict(im_t)"
   ]
  },
  {
   "cell_type": "code",
   "execution_count": 24,
   "metadata": {},
   "outputs": [
    {
     "data": {
      "text/plain": [
       "dict"
      ]
     },
     "execution_count": 24,
     "metadata": {},
     "output_type": "execute_result"
    }
   ],
   "source": [
    "type(img_predict)"
   ]
  },
  {
   "cell_type": "code",
   "execution_count": 25,
   "metadata": {},
   "outputs": [],
   "source": [
    "import os"
   ]
  },
  {
   "cell_type": "code",
   "execution_count": 26,
   "metadata": {},
   "outputs": [],
   "source": [
    "files = os.listdir(\"images\")"
   ]
  },
  {
   "cell_type": "code",
   "execution_count": 27,
   "metadata": {},
   "outputs": [
    {
     "name": "stdout",
     "output_type": "stream",
     "text": [
      "not_selfie (1701).jpg {'outputs': {'score': {'dtype': 1, 'tensor_shape': {'dim': [{'size': 1}, {'size': 2}]}, 'float_val': [0.9999711513519287, 2.8834725526394323e-05]}}, 'model_spec': {'name': 'generic_model', 'version': {'value': 21039524}, 'signature_name': 'serving_default'}}\n",
      "not_selfie (1702).jpg {'outputs': {'score': {'dtype': 1, 'tensor_shape': {'dim': [{'size': 1}, {'size': 2}]}, 'float_val': [0.999211311340332, 0.0007886163657531142]}}, 'model_spec': {'name': 'generic_model', 'version': {'value': 21039524}, 'signature_name': 'serving_default'}}\n",
      "not_selfie (1703).jpg {'outputs': {'score': {'dtype': 1, 'tensor_shape': {'dim': [{'size': 1}, {'size': 2}]}, 'float_val': [0.9999921321868896, 7.880856173869688e-06]}}, 'model_spec': {'name': 'generic_model', 'version': {'value': 21039524}, 'signature_name': 'serving_default'}}\n",
      "selfie_images (6).jpg {'outputs': {'score': {'dtype': 1, 'tensor_shape': {'dim': [{'size': 1}, {'size': 2}]}, 'float_val': [5.160071304999292e-05, 0.9999483823776245]}}, 'model_spec': {'name': 'generic_model', 'version': {'value': 21039524}, 'signature_name': 'serving_default'}}\n",
      "selfie_images (4).jpg {'outputs': {'score': {'dtype': 1, 'tensor_shape': {'dim': [{'size': 1}, {'size': 2}]}, 'float_val': [7.351667052901689e-10, 1.0]}}, 'model_spec': {'name': 'generic_model', 'version': {'value': 21039524}, 'signature_name': 'serving_default'}}\n",
      "selfie_images (5).jpg {'outputs': {'score': {'dtype': 1, 'tensor_shape': {'dim': [{'size': 1}, {'size': 2}]}, 'float_val': [0.00036468220059759915, 0.9996353387832642]}}, 'model_spec': {'name': 'generic_model', 'version': {'value': 21039524}, 'signature_name': 'serving_default'}}\n"
     ]
    }
   ],
   "source": [
    "for file in files:\n",
    "    pic = Image.open(\"images/\"+file)\n",
    "    pic = pic.convert('L')\n",
    "    pic = pic.resize((IMG_SIZE, IMG_SIZE), Image.ANTIALIAS)\n",
    "    pix = np.array(pic.getdata()).reshape(1, 256, 256, 1)\n",
    "    predict_image=predictor.predict(pix)\n",
    "    print(file, predict_image)"
   ]
  },
  {
   "cell_type": "code",
   "execution_count": null,
   "metadata": {},
   "outputs": [],
   "source": []
  }
 ],
 "metadata": {
  "kernelspec": {
   "display_name": "Python 3",
   "language": "python",
   "name": "python3"
  },
  "language_info": {
   "codemirror_mode": {
    "name": "ipython",
    "version": 3
   },
   "file_extension": ".py",
   "mimetype": "text/x-python",
   "name": "python",
   "nbconvert_exporter": "python",
   "pygments_lexer": "ipython3",
   "version": "3.5.5"
  },
  "widgets": {
   "state": {},
   "version": "1.1.2"
  }
 },
 "nbformat": 4,
 "nbformat_minor": 2
}
